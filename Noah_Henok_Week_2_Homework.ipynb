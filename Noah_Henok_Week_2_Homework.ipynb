{
  "nbformat": 4,
  "nbformat_minor": 2,
  "metadata": {
    "colab": {
      "name": "Noah Henok - Homework 2.ipynb",
      "provenance": [],
      "collapsed_sections": []
    },
    "kernelspec": {
      "name": "python3",
      "display_name": "Python 3.6.8 64-bit"
    },
    "language_info": {
      "name": "python",
      "version": "3.6.8",
      "mimetype": "text/x-python",
      "codemirror_mode": {
        "name": "ipython",
        "version": 3
      },
      "pygments_lexer": "ipython3",
      "nbconvert_exporter": "python",
      "file_extension": ".py"
    },
    "interpreter": {
      "hash": "188ab23dac1e48f9f7ff704a2f9f9e761bf87664fe85ef8c95919fa288543d0f"
    }
  },
  "cells": [
    {
      "cell_type": "markdown",
      "source": [
        "# List and Tuples Concept Questions\n",
        "\n"
      ],
      "metadata": {
        "id": "NwAL3uovAsxi"
      }
    },
    {
      "cell_type": "markdown",
      "source": [
        "### True or False\n",
        "\n",
        "1. Lists are immutable\n",
        "2. Tuples are immuntable \n",
        "3. The len() function is a method for the list class \n",
        "4. All the items in a list or tuple need to be the same type\n"
      ],
      "metadata": {
        "id": "7XpFpkviBSkA"
      }
    },
    {
      "cell_type": "code",
      "execution_count": null,
      "source": [
        "\"\"\" \r\n",
        "1. False\r\n",
        "2. True\r\n",
        "3. False\r\n",
        "4. False\r\n",
        "\"\"\""
      ],
      "outputs": [],
      "metadata": {
        "id": "51jmfA_XBTm8"
      }
    },
    {
      "cell_type": "markdown",
      "source": [
        "### Short Answer\r\n",
        "\r\n",
        "1. What is the difference between the list remove() method and the pop() method?\r\n",
        "\r\n",
        "2. What is the difference between the list append() and extend()?\r\n",
        "\r\n",
        "3. After I run the following code what does x and y look like?\r\n",
        "  ```\r\n",
        "  x = [\"green\",\"blue\",\"white\"]\r\n",
        "  y = [\"yellow\",\"red\"]\r\n",
        "  x.extend(y)\r\n",
        "  y.extend(x)\r\n",
        "  ```\r\n",
        "\r\n",
        "4. What is wrong with the following code?\r\n",
        "  ```\r\n",
        "  food = (\"apple\",\"cake\",\"bread\",\"milk\")\r\n",
        "  food.append(\"eggs\")\r\n",
        "  food[0] = \"green apples\"\r\n",
        "  ```"
      ],
      "metadata": {
        "id": "SdfLEmiBBWB5"
      }
    },
    {
      "cell_type": "code",
      "execution_count": null,
      "source": [
        "\"\"\" \r\n",
        "1. Remove removes the specified value pop removes and prints the last entry\r\n",
        "2. append adds something as one element extend adds all the elements of the specified list to the the other list\r\n",
        "3. X = [\"green\",\"blue\",\"white\",\"yellow\",\"red\"] Y = [\"yellow\",\"red\",green\",\"blue\",\"white\"]\r\n",
        "4. Lists are immutable you cant thange the value food[0]\r\n",
        "\"\"\""
      ],
      "outputs": [],
      "metadata": {
        "id": "m1uIg5NMCxX1"
      }
    },
    {
      "cell_type": "markdown",
      "source": [
        "##Loops Concept Questions \n",
        "1. What is the behavior/error of the following code? What could we do to fix it?\n",
        "  ```\n",
        "  i = 1\n",
        "  while i > 0: \n",
        "      print (\"hello\")\n",
        " ```"
      ],
      "metadata": {
        "id": "_Spj9FUI7OQw"
      }
    },
    {
      "cell_type": "code",
      "execution_count": null,
      "source": [
        "\"\"\" \r\n",
        "Has no condition to allow for break. a better infinite loop would be \"while 1:\"\r\n",
        "\"\"\""
      ],
      "outputs": [],
      "metadata": {
        "id": "lyCVw1YX64O7"
      }
    },
    {
      "cell_type": "markdown",
      "source": [
        "2. What does the following print? What should we range from to get numbers from 3 to 22. Submit answer in form \"range(a:b)\" \r\n",
        "  ```\r\n",
        "  for i in range(0, 10):\r\n",
        "      print(i)\r\n",
        "  ```\r\n",
        "  "
      ],
      "metadata": {
        "id": "R8QZENu27eEy"
      }
    },
    {
      "cell_type": "code",
      "execution_count": null,
      "source": [
        "\"\"\" \r\n",
        "0\r\n",
        "1\r\n",
        "2\r\n",
        "3\r\n",
        "4\r\n",
        "5\r\n",
        "6\r\n",
        "7\r\n",
        "8\r\n",
        "9\r\n",
        "\r\n",
        "range(3:23)\r\n",
        "\"\"\""
      ],
      "outputs": [],
      "metadata": {
        "id": "LyXmuxyc7hv2"
      }
    },
    {
      "cell_type": "markdown",
      "source": [
        "3. Explain what is happeneing in each loop in detail. \r\n",
        "\r\n",
        "  ```\r\n",
        "  word = \"cool\" \r\n",
        "  new_word = \"\"\r\n",
        "  i = len(word)\r\n",
        "\r\n",
        "  while i > 0:\r\n",
        "      i = i - 1\r\n",
        "      new_word = new_word + word[i]\r\n",
        "  ```"
      ],
      "metadata": {
        "id": "rA-niR7_7naX"
      }
    },
    {
      "cell_type": "code",
      "execution_count": null,
      "source": [
        "\"\"\"\r\n",
        "1. variable word is set to cool\r\n",
        "2. you create an empty variable\r\n",
        "3. i is the length of the word\r\n",
        "4. you make sure that the word hasnt been completed\r\n",
        "5. you subtract one to get the index\r\n",
        "6. you add the last letter to the word\r\n",
        "7. the word ends up getting spelt backwards\r\n",
        "\"\"\""
      ],
      "outputs": [],
      "metadata": {
        "id": "UAT8d1LG7oDG"
      }
    },
    {
      "cell_type": "markdown",
      "source": [
        "\r\n",
        "\r\n",
        "4. Explain what is happening, in detail, in the code below.\r\n",
        "\r\n",
        "  ```\r\n",
        "  for i in range(0, 5):\r\n",
        "      for j in range(0, i):\r\n",
        "          print(i+j)\r\n",
        "  ```"
      ],
      "metadata": {
        "id": "oHuY7WnT1IYI"
      }
    },
    {
      "cell_type": "code",
      "execution_count": null,
      "source": [
        "\"\"\"\r\n",
        "It just adds up\r\n",
        "\"\"\""
      ],
      "outputs": [],
      "metadata": {
        "id": "Jko5vqzk7zEs"
      }
    },
    {
      "cell_type": "markdown",
      "source": [
        "5. Bill wants to identify and print out all the odd and even numbers from 0 to 100 and write the following code, but it does not work. Explain what is wrong with this code.\n",
        "\n",
        "\n",
        "\n",
        ">  \n",
        "```\n",
        "counter = 0;\n",
        "while counter > 100:\n",
        "  if counter % 2 == 1\n",
        "    print(couter, \"is odd\")\n",
        "  else\n",
        "    print(counter,\"is even\")\n",
        "  counter+=1\n",
        "```"
      ],
      "metadata": {
        "id": "GydMlCn5_U1r"
      }
    },
    {
      "cell_type": "code",
      "execution_count": null,
      "source": [
        "\"\"\"\r\n",
        "Counter will never be bigger than 100 also you dont need a semicolon\r\n",
        "\"\"\""
      ],
      "outputs": [],
      "metadata": {
        "id": "2AvsJmZO_4mT"
      }
    },
    {
      "cell_type": "markdown",
      "source": [
        "# Loop Coding Questions"
      ],
      "metadata": {
        "id": "lHN4VlJa8G_C"
      }
    },
    {
      "cell_type": "markdown",
      "source": [
        "## Print the Even Number\n",
        "1. Write a program to print first 10 even numbers."
      ],
      "metadata": {
        "id": "x-APjYs2-9UH"
      }
    },
    {
      "cell_type": "code",
      "execution_count": null,
      "source": [
        "for x in range(11): print(x)"
      ],
      "outputs": [],
      "metadata": {
        "id": "_INVvxVP_Bh6"
      }
    },
    {
      "cell_type": "markdown",
      "source": [
        "## Find the Average of a List of Numbers\n",
        "2. Use a loop to find the average number in the following list:"
      ],
      "metadata": {
        "id": "Keh57VO-EH1j"
      }
    },
    {
      "cell_type": "code",
      "execution_count": null,
      "source": [
        "num_list = [23,12,45,6,12,34,67,8,6,-12,34,56,87]\r\n",
        "#code\r\n",
        "from statistics import mean\r\n",
        "print(mean(num_list))"
      ],
      "outputs": [],
      "metadata": {
        "id": "NTC4BhBrELN1"
      }
    },
    {
      "cell_type": "markdown",
      "source": [
        "## Find the Smallest Number\n",
        "3. User a for loop to find the smallest number in a list"
      ],
      "metadata": {
        "id": "njs_BgTZ-KFR"
      }
    },
    {
      "cell_type": "code",
      "execution_count": null,
      "source": [
        "#Use a for loop to find the smallest number in the following list:\r\n",
        "num_list = [23,12,45,6,12,34,67,8,6,-12,34,56,87]\r\n",
        "\r\n",
        "#Your Code Below This Comment\r\n",
        "from statistics import min\r\n",
        "min(num_list)"
      ],
      "outputs": [],
      "metadata": {
        "id": "axrFZT6H9YdU"
      }
    },
    {
      "cell_type": "markdown",
      "source": [
        "## Separate the Types\n",
        "4. The list below contains integers, strings, and floats. The goal of this coding question is to create three lists where each type has its own list. In order to solve this problem you will need to use the python ```type()``` function which is explained below.\n",
        "\n",
        "> As mentioned in the first class python has four basic types integers, floars, strings, and booleans. Python also has a built in function called ```type()``` that allow us to check if an object is one of these four basic types as shown below:\n",
        "*   ```type(1) == int```  returns true\n",
        "*   ```type(\"string\") == str```  returns true\n",
        "*   ```type(3.14) == float``` returns true\n",
        "*   ```type(True) == boolean``` returns true\n",
        "\n",
        "Use the ```type()``` function to help you check which group something belongs to in the probelm below\n"
      ],
      "metadata": {
        "id": "Mwq4QYhV8Mzt"
      }
    },
    {
      "cell_type": "code",
      "execution_count": null,
      "source": [
        "#seperate all the elements in the mixed_list by type and place them in their assigned list\r\n",
        "#the answer should output:\r\n",
        "#string_list = [\"hi\",\"hello\",\"world\"]\r\n",
        "#float_list = [2.3,1.2,7.1]\r\n",
        "#int_list =  [1,10,5,6]\r\n",
        "\r\n",
        "\r\n",
        "mixed_list = [1,\"hi\",2.3,1.2,7.1,10,5,6,\"hello\",\"world\"]\r\n",
        "string_list = []\r\n",
        "float_list = []\r\n",
        "int_list = []\r\n",
        "\r\n",
        "#Your Code Below This Comment\r\n",
        "for x in mixed_list:\r\n",
        "    if type(x) == "
      ],
      "outputs": [],
      "metadata": {
        "id": "Le2VmlYS9SMo"
      }
    }
  ]
}
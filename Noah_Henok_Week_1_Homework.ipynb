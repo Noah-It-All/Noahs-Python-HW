{
  "nbformat": 4,
  "nbformat_minor": 2,
  "metadata": {
    "colab": {
      "name": "Noah_Henok_Week_1_Homework.ipynb",
      "provenance": []
    },
    "kernelspec": {
      "name": "python3",
      "display_name": "Python 3"
    },
    "language_info": {
      "name": "python"
    }
  },
  "cells": [
    {
      "cell_type": "markdown",
      "source": [
        "1. \n",
        "Write the types of the following in the box below:\n",
        "\n",
        "\n",
        "```\n",
        "    1. \"World\"\n",
        "    2. 2.33\n",
        "    3. \"Hello\"\n",
        "    4. \"122\"\n",
        "    5. \"true\"\n",
        "    6. False\n",
        "    7. 35\n",
        "```\n",
        "\n"
      ],
      "metadata": {
        "id": "0rODP6cH-Bre"
      }
    },
    {
      "cell_type": "code",
      "execution_count": null,
      "source": [
        "''' \r\n",
        "1 = str\r\n",
        "2 = float\r\n",
        "3 = str\r\n",
        "4 = str\r\n",
        "5 = str\r\n",
        "6 = bool\r\n",
        "7 = int\r\n",
        "'''"
      ],
      "outputs": [],
      "metadata": {
        "id": "AvuTus9n-uoo"
      }
    },
    {
      "cell_type": "markdown",
      "source": [
        "2. Identify the valid variable names from the list. Enter your answer into the box below.\n",
        "\n",
        "  ```\n",
        "  1. _var\n",
        "  2. 0var\n",
        "  3. V_A_R_\n",
        "  4. v@r\n",
        "  5. $var\n",
        "  6. vAr_5\n",
        "  ```\n",
        "\n"
      ],
      "metadata": {
        "id": "FnbDHaLf_Rt4"
      }
    },
    {
      "cell_type": "code",
      "execution_count": null,
      "source": [
        "''' \r\n",
        "1, 3, 6\r\n",
        "'''"
      ],
      "outputs": [],
      "metadata": {
        "id": "CGytPU6qAjvB"
      }
    },
    {
      "cell_type": "markdown",
      "source": [
        "3. What are the values of x and y at the end of this program? Try to run it in your head before then run it on your computer to confirm:x = 99\n",
        "\n",
        ">  \n",
        " ```\n",
        "  x = 99\n",
        "  x = x / 10\n",
        "  x = x * 50\n",
        "  y = x\n",
        "  y = y + 5\n",
        "  x = x - y\n",
        "  y = y % x\n",
        "  ```"
      ],
      "metadata": {
        "id": "miiwAimGAgyW"
      }
    },
    {
      "cell_type": "code",
      "execution_count": 1,
      "source": [
        "''' \r\n",
        "x = -5\r\n",
        "y = 0 \r\n",
        "'''"
      ],
      "outputs": [
        {
          "output_type": "stream",
          "name": "stdout",
          "text": [
            "\n"
          ]
        }
      ],
      "metadata": {
        "id": "auzNKBtLcju5",
        "colab": {
          "base_uri": "https://localhost:8080/"
        },
        "outputId": "32929bcd-710b-43d0-aca4-dc122857de27"
      }
    },
    {
      "cell_type": "markdown",
      "source": [
        "4. Write the results of these operations in the box below. Write 'Error' if the operation is invalid. \n",
        "\n",
        "\n",
        "\n",
        ">  \n",
        "  ```\n",
        "  1. 3 + 5\n",
        "  2. \"3\" + 5 \n",
        "  3. \"true\"*3 \n",
        "  4. 3//10\n",
        "  5. 4**5\n",
        "  6. 6/0\n",
        "  7. \"3\" + \"5\"\n",
        "  ```\n",
        "\n"
      ],
      "metadata": {
        "id": "HCg8ZqtRY4kv"
      }
    },
    {
      "cell_type": "code",
      "execution_count": null,
      "source": [
        "''' \r\n",
        "1 = 8\r\n",
        "2 = Value Error im guessing\r\n",
        "3 = truetruetrue\r\n",
        "4 = 0\r\n",
        "5 = 1024\r\n",
        "6 = 0\r\n",
        "7 = 35\r\n",
        "\r\n",
        "'''"
      ],
      "outputs": [],
      "metadata": {
        "id": "vMC56Ve0AIwA"
      }
    },
    {
      "cell_type": "markdown",
      "source": [
        "5. Write code to print all the letters in \"shiro\" one at a line"
      ],
      "metadata": {
        "id": "g95lzC9zaBoI"
      }
    },
    {
      "cell_type": "code",
      "execution_count": null,
      "source": [
        "# Long Version\r\n",
        "word = \"shiro\"\r\n",
        "letters = list(word)\r\n",
        "for letter in letters:\r\n",
        "  print(letter)\r\n",
        "# Less Clean but one line edition\r\n",
        "for x in list(\"shiro\"): print(x)"
      ],
      "outputs": [
        {
          "output_type": "stream",
          "name": "stdout",
          "text": [
            "s\n",
            "h\n",
            "i\n",
            "r\n",
            "o\n"
          ]
        }
      ],
      "metadata": {
        "id": "AIwDUZUlaKnH",
        "colab": {
          "base_uri": "https://localhost:8080/"
        },
        "outputId": "0081cb0e-b8c6-43b9-ac02-04c235d5fff0"
      }
    },
    {
      "cell_type": "markdown",
      "source": [
        "6. What does this code print? Run it in your head before trying on a computer.\n",
        "\n",
        "\n",
        "\n",
        ">  \n",
        "```\n",
        "z = 5 * (12 % 1) / 18\n",
        "x = 23 - 14\n",
        "y = x * z\n",
        "z = 2 * x\n",
        "print(z**2)\n",
        "```\n",
        "\n"
      ],
      "metadata": {
        "id": "3zqmRSzUa38v"
      }
    },
    {
      "cell_type": "code",
      "execution_count": null,
      "source": [
        "''' \r\n",
        "0\r\n",
        "'''"
      ],
      "outputs": [],
      "metadata": {
        "id": "liwvvbDBaBMp"
      }
    },
    {
      "cell_type": "markdown",
      "source": [
        "7. Booleans\n",
        "\n",
        "\n",
        "\n",
        "> **Rember the order of operations**\n",
        "  1.   not\n",
        "  2.   and\n",
        "  3.   or\n",
        "\n"
      ],
      "metadata": {
        "id": "3Y9-B3BaXgUn"
      }
    },
    {
      "cell_type": "markdown",
      "source": [
        "* In what order does Python read the following boolean statement: \n",
        "    ```\n",
        "    False and True or False\n",
        "    ```\n",
        "* In what order does Python read the following boolean statement: \n",
        "    ```\n",
        "    False or True and False or not False\n",
        "    ```\n",
        "\n",
        "* What does the following print and in what order is the statement evaluated:\n",
        "    ```\n",
        "    print(not \"hannah montana\" == \"HANNAH MONTANA\" or 18<4)\n",
        "    ```\n",
        "* What does the following print and what order is the statement evaluated: \n",
        "    ```\n",
        "    print(not 2 != 2 or len(\"green\") > 3)\n",
        "    ```\n"
      ],
      "metadata": {
        "id": "dj6JE-0fc3J0"
      }
    },
    {
      "cell_type": "code",
      "execution_count": null,
      "source": [
        "''' \n",
        "\"False and True or False\"\n",
        "\n",
        "\"not False and False or False or True\"\n",
        "\n",
        "\"True\" order =\"not \"hannah montana\" == \"HANNAH MONTANA\" or 18<4\"\n",
        "\n",
        "\"True\" \n",
        "'''"
      ],
      "outputs": [],
      "metadata": {
        "id": "4i4YmLR6Zyta"
      }
    },
    {
      "cell_type": "markdown",
      "source": [
        "8. Imagine the cutoffs for a certain class are as given below:\n",
        "\n",
        "  ```\n",
        "  A = 90-100\n",
        "  B = 80-89\n",
        "  C = 70-79\n",
        "  D = 60-69\n",
        "  F = 0-59\n",
        "\n",
        "  ```\n",
        "  Your professor tasked you with writing a code that prints the letter grade of a student given their grade. For instance, if the grade of a student is 85, your code should print \"B\". Your first attempt is the code given below. Why is it incomplete? Hint: what happens if a student gets 59?\n",
        "\n",
        "\n",
        "\n",
        "  ```\n",
        "      if x >= 90:\n",
        "          print(\"A\")\n",
        "      elif x >= 80:\n",
        "          print(\"B\")\n",
        "      elif x >= 70:\n",
        "          print(\"C\")\n",
        "      elif x >= 60:\n",
        "          print(\"D\")\n",
        "  ```\n"
      ],
      "metadata": {
        "id": "Lcff8Z8RbZNE"
      }
    },
    {
      "cell_type": "code",
      "execution_count": null,
      "source": [
        "''' \n",
        "There's no case for anything under 60\n",
        "'''"
      ],
      "outputs": [],
      "metadata": {
        "id": "A2YGxte8ZgiR"
      }
    },
    {
      "cell_type": "markdown",
      "source": [
        "9. Scratching your head, you try to fix the problem. Imagine your next attempt was this:\n",
        "\n",
        "\n",
        "```\n",
        "    if x >= 90:\n",
        "        print(\"A\")\n",
        "    if x >= 80:\n",
        "        print(\"B\")\n",
        "    if x >= 70:\n",
        "        print(\"C\")\n",
        "    if x >= 60:\n",
        "        print(\"D\")\n",
        "    else:\n",
        "        print(\"F\")\n",
        "```\n",
        "\n",
        "This however is also incorrect. Can you spot the issue?\n"
      ],
      "metadata": {
        "id": "BXqODCTfcWcI"
      }
    },
    {
      "cell_type": "code",
      "execution_count": null,
      "source": [
        "''' \n",
        "It auto prints f when there is no x\n",
        "'''"
      ],
      "outputs": [
        {
          "output_type": "stream",
          "name": "stdout",
          "text": [
            "F\n"
          ]
        }
      ],
      "metadata": {
        "id": "plxR3rAcZroF",
        "colab": {
          "base_uri": "https://localhost:8080/"
        },
        "outputId": "74103b2d-13f7-4dcc-eeaa-05384b28a28c"
      }
    },
    {
      "cell_type": "markdown",
      "source": [
        "10. Give a valid code to accomplish the task given above."
      ],
      "metadata": {
        "id": "ThaVzMSGcyQD"
      }
    },
    {
      "cell_type": "code",
      "execution_count": 2,
      "source": [
        "def func():\n",
        "  while True:\n",
        "      try:\n",
        "        x = int(input(\"Whats the score: \"))\n",
        "      except ValueError:\n",
        "        print(\"Value Provided threw error\")\n",
        "        func()\n",
        "      if x >= 90:\n",
        "          print(\"A\")\n",
        "      elif x >= 80:\n",
        "          print(\"B\")\n",
        "      elif x >= 70:\n",
        "          print(\"C\")\n",
        "      elif x >= 60:\n",
        "          print(\"D\")\n",
        "      elif 59 >= x:\n",
        "          print(\"F\")\n",
        "func()\n"
      ],
      "outputs": [
        {
          "output_type": "stream",
          "name": "stdout",
          "text": [
            "\n"
          ]
        }
      ],
      "metadata": {
        "id": "d7l5b5P3bIva",
        "colab": {
          "base_uri": "https://localhost:8080/"
        },
        "outputId": "28f1e56d-131e-493d-81ce-a8661469b596"
      }
    },
    {
      "cell_type": "markdown",
      "source": [
        "11. Splice the strings to extract the word we want"
      ],
      "metadata": {
        "id": "sauaKV-FbLnV"
      }
    },
    {
      "cell_type": "code",
      "execution_count": 9,
      "source": [
        "random_string = 'thisbithere'\n",
        "\n",
        "# slice the string 'this' from random_string\n",
        "answerA = random_string[0:4]\n",
        "print(answerA)\n",
        "# slice the string 'bit' from random_string\n",
        "answerB = random_string[4:7]\n",
        "print(answerB)\n",
        "\n",
        "long_string='thisisalongbitofstringthatcontainsnoinformation'\n",
        "\n",
        "#slice the string 'infromation' from long_string\n",
        "answerC = long_string[-11:]\n",
        "print(answerC)\n",
        "\n",
        "#slice the string 'tbnls' from long_string (hint: look for the b)\n",
        "answerD = long_string[5:14:2][::-1]\n",
        "print(answerD)\n"
      ],
      "outputs": [
        {
          "output_type": "stream",
          "name": "stdout",
          "text": [
            "this\n",
            "bit\n",
            "information\n",
            "tbnls\n"
          ]
        }
      ],
      "metadata": {
        "id": "zxe6hhiVbSk-",
        "colab": {
          "base_uri": "https://localhost:8080/"
        },
        "outputId": "64504d03-cbb7-4f79-ee62-2c1c1ef80a87"
      }
    }
  ]
}
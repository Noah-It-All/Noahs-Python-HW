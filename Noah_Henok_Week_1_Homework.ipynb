{
  "nbformat": 4,
  "nbformat_minor": 0,
  "metadata": {
    "colab": {
      "name": "Noah_Henok_Week_1_Homework.ipynb",
      "provenance": []
    },
    "kernelspec": {
      "name": "python3",
      "display_name": "Python 3"
    },
    "language_info": {
      "name": "python"
    }
  },
  "cells": [
    {
      "cell_type": "markdown",
      "metadata": {
        "id": "0rODP6cH-Bre"
      },
      "source": [
        "1. \n",
        "Write the types of the following in the box below:\n",
        "\n",
        "\n",
        "```\n",
        "    1. \"World\"\n",
        "    2. 2.33\n",
        "    3. \"Hello\"\n",
        "    4. \"122\"\n",
        "    5. \"true\"\n",
        "    6. False\n",
        "    7. 35\n",
        "```\n",
        "\n"
      ]
    },
    {
      "cell_type": "code",
      "metadata": {
        "id": "AvuTus9n-uoo"
      },
      "source": [
        "''' \n",
        "1 = str\n",
        "2 = float\n",
        "3 = str\n",
        "4 = str\n",
        "5 = str\n",
        "6 = bool\n",
        "7 = int\n",
        "'''"
      ],
      "execution_count": null,
      "outputs": []
    },
    {
      "cell_type": "markdown",
      "metadata": {
        "id": "FnbDHaLf_Rt4"
      },
      "source": [
        "2. Identify the valid variable names from the list. Enter your answer into the box below.\n",
        "\n",
        "  ```\n",
        "  1. _var\n",
        "  2. 0var\n",
        "  3. V_A_R_\n",
        "  4. v@r\n",
        "  5. $var\n",
        "  6. vAr_5\n",
        "  ```\n",
        "\n"
      ]
    },
    {
      "cell_type": "code",
      "metadata": {
        "id": "CGytPU6qAjvB"
      },
      "source": [
        "''' \n",
        "1, 3, 6\n",
        "'''"
      ],
      "execution_count": null,
      "outputs": []
    },
    {
      "cell_type": "markdown",
      "metadata": {
        "id": "miiwAimGAgyW"
      },
      "source": [
        "3. What are the values of x and y at the end of this program? Try to run it in your head before then run it on your computer to confirm:x = 99\n",
        "\n",
        ">  \n",
        " ```\n",
        "  x = 99\n",
        "  x = x / 10\n",
        "  x = x * 50\n",
        "  y = x\n",
        "  y = y + 5\n",
        "  x = x - y\n",
        "  y = y % x\n",
        "  ```"
      ]
    },
    {
      "cell_type": "code",
      "metadata": {
        "id": "auzNKBtLcju5",
        "colab": {
          "base_uri": "https://localhost:8080/"
        },
        "outputId": "32929bcd-710b-43d0-aca4-dc122857de27"
      },
      "source": [
        "''' \n",
        "x = -5\n",
        "y = 0 \n",
        "'''"
      ],
      "execution_count": 1,
      "outputs": [
        {
          "output_type": "stream",
          "text": [
            "\n"
          ],
          "name": "stdout"
        }
      ]
    },
    {
      "cell_type": "markdown",
      "metadata": {
        "id": "HCg8ZqtRY4kv"
      },
      "source": [
        "4. Write the results of these operations in the box below. Write 'Error' if the operation is invalid. \n",
        "\n",
        "\n",
        "\n",
        ">  \n",
        "  ```\n",
        "  1. 3 + 5\n",
        "  2. \"3\" + 5 \n",
        "  3. \"true\"*3 \n",
        "  4. 3//10\n",
        "  5. 4**5\n",
        "  6. 6/0\n",
        "  7. \"3\" + \"5\"\n",
        "  ```\n",
        "\n"
      ]
    },
    {
      "cell_type": "code",
      "metadata": {
        "id": "vMC56Ve0AIwA"
      },
      "source": [
        "''' \n",
        "1 = 8\n",
        "2 = Value Error im guessing\n",
        "3 = truetruetrue\n",
        "4 = 0\n",
        "5 = 1024\n",
        "6 = 0\n",
        "7 = 35\n",
        "\n",
        "'''"
      ],
      "execution_count": null,
      "outputs": []
    },
    {
      "cell_type": "markdown",
      "metadata": {
        "id": "g95lzC9zaBoI"
      },
      "source": [
        "5. Write code to print all the letters in \"shiro\" one at a line"
      ]
    },
    {
      "cell_type": "code",
      "metadata": {
        "id": "AIwDUZUlaKnH",
        "colab": {
          "base_uri": "https://localhost:8080/"
        },
        "outputId": "0081cb0e-b8c6-43b9-ac02-04c235d5fff0"
      },
      "source": [
        "word = \"shiro\"\n",
        "letters = list(word)\n",
        "for letter in letters:\n",
        "  print(letter)"
      ],
      "execution_count": null,
      "outputs": [
        {
          "output_type": "stream",
          "text": [
            "s\n",
            "h\n",
            "i\n",
            "r\n",
            "o\n"
          ],
          "name": "stdout"
        }
      ]
    },
    {
      "cell_type": "markdown",
      "metadata": {
        "id": "3zqmRSzUa38v"
      },
      "source": [
        "6. What does this code print? Run it in your head before trying on a computer.\n",
        "\n",
        "\n",
        "\n",
        ">  \n",
        "```\n",
        "z = 5 * (12 % 1) / 18\n",
        "x = 23 - 14\n",
        "y = x * z\n",
        "z = 2 * x\n",
        "print(z**2)\n",
        "```\n",
        "\n"
      ]
    },
    {
      "cell_type": "code",
      "metadata": {
        "id": "liwvvbDBaBMp"
      },
      "source": [
        "''' \n",
        "0\n",
        "'''"
      ],
      "execution_count": null,
      "outputs": []
    },
    {
      "cell_type": "markdown",
      "metadata": {
        "id": "3Y9-B3BaXgUn"
      },
      "source": [
        "7. Booleans\n",
        "\n",
        "\n",
        "\n",
        "> **Rember the order of operations**\n",
        "  1.   not\n",
        "  2.   and\n",
        "  3.   or\n",
        "\n"
      ]
    },
    {
      "cell_type": "markdown",
      "metadata": {
        "id": "dj6JE-0fc3J0"
      },
      "source": [
        "* In what order does Python read the following boolean statement: \n",
        "    ```\n",
        "    False and True or False\n",
        "    ```\n",
        "* In what order does Python read the following boolean statement: \n",
        "    ```\n",
        "    False or True and False or not False\n",
        "    ```\n",
        "\n",
        "* What does the following print and in what order is the statement evaluated:\n",
        "    ```\n",
        "    print(not \"hannah montana\" == \"HANNAH MONTANA\" or 18<4)\n",
        "    ```\n",
        "* What does the following print and what order is the statement evaluated: \n",
        "    ```\n",
        "    print(not 2 != 2 or len(\"green\") > 3)\n",
        "    ```\n"
      ]
    },
    {
      "cell_type": "code",
      "metadata": {
        "id": "4i4YmLR6Zyta"
      },
      "source": [
        "''' \n",
        "\"False and True or False\"\n",
        "\n",
        "\"not False and False or False or True\"\n",
        "\n",
        "\"True\" order =\"not \"hannah montana\" == \"HANNAH MONTANA\" or 18<4\"\n",
        "\n",
        "\"True\" \n",
        "'''"
      ],
      "execution_count": null,
      "outputs": []
    },
    {
      "cell_type": "markdown",
      "metadata": {
        "id": "Lcff8Z8RbZNE"
      },
      "source": [
        "8. Imagine the cutoffs for a certain class are as given below:\n",
        "\n",
        "  ```\n",
        "  A = 90-100\n",
        "  B = 80-89\n",
        "  C = 70-79\n",
        "  D = 60-69\n",
        "  F = 0-59\n",
        "\n",
        "  ```\n",
        "  Your professor tasked you with writing a code that prints the letter grade of a student given their grade. For instance, if the grade of a student is 85, your code should print \"B\". Your first attempt is the code given below. Why is it incomplete? Hint: what happens if a student gets 59?\n",
        "\n",
        "\n",
        "\n",
        "  ```\n",
        "      if x >= 90:\n",
        "          print(\"A\")\n",
        "      elif x >= 80:\n",
        "          print(\"B\")\n",
        "      elif x >= 70:\n",
        "          print(\"C\")\n",
        "      elif x >= 60:\n",
        "          print(\"D\")\n",
        "  ```\n"
      ]
    },
    {
      "cell_type": "code",
      "metadata": {
        "id": "A2YGxte8ZgiR"
      },
      "source": [
        "''' \n",
        "There's no case for anything under 60\n",
        "'''"
      ],
      "execution_count": null,
      "outputs": []
    },
    {
      "cell_type": "markdown",
      "metadata": {
        "id": "BXqODCTfcWcI"
      },
      "source": [
        "9. Scratching your head, you try to fix the problem. Imagine your next attempt was this:\n",
        "\n",
        "\n",
        "```\n",
        "    if x >= 90:\n",
        "        print(\"A\")\n",
        "    if x >= 80:\n",
        "        print(\"B\")\n",
        "    if x >= 70:\n",
        "        print(\"C\")\n",
        "    if x >= 60:\n",
        "        print(\"D\")\n",
        "    else:\n",
        "        print(\"F\")\n",
        "```\n",
        "\n",
        "This however is also incorrect. Can you spot the issue?\n"
      ]
    },
    {
      "cell_type": "code",
      "metadata": {
        "id": "plxR3rAcZroF",
        "colab": {
          "base_uri": "https://localhost:8080/"
        },
        "outputId": "74103b2d-13f7-4dcc-eeaa-05384b28a28c"
      },
      "source": [
        "''' \n",
        "It auto prints f when there is no x\n",
        "'''"
      ],
      "execution_count": null,
      "outputs": [
        {
          "output_type": "stream",
          "text": [
            "F\n"
          ],
          "name": "stdout"
        }
      ]
    },
    {
      "cell_type": "markdown",
      "metadata": {
        "id": "ThaVzMSGcyQD"
      },
      "source": [
        "10. Give a valid code to accomplish the task given above."
      ]
    },
    {
      "cell_type": "code",
      "metadata": {
        "id": "d7l5b5P3bIva",
        "colab": {
          "base_uri": "https://localhost:8080/"
        },
        "outputId": "28f1e56d-131e-493d-81ce-a8661469b596"
      },
      "source": [
        "def func():\n",
        "  while True:\n",
        "      try:\n",
        "        x = int(input(\"Whats the score: \"))\n",
        "      except ValueError:\n",
        "        print(\"Value Provided threw error\")\n",
        "        func()\n",
        "      if x >= 90:\n",
        "          print(\"A\")\n",
        "      elif x >= 80:\n",
        "          print(\"B\")\n",
        "      elif x >= 70:\n",
        "          print(\"C\")\n",
        "      elif x >= 60:\n",
        "          print(\"D\")\n",
        "      elif 59 >= x:\n",
        "          print(\"F\")\n",
        "func()\n"
      ],
      "execution_count": 2,
      "outputs": [
        {
          "output_type": "stream",
          "text": [
            "\n"
          ],
          "name": "stdout"
        }
      ]
    },
    {
      "cell_type": "markdown",
      "metadata": {
        "id": "sauaKV-FbLnV"
      },
      "source": [
        "11. Splice the strings to extract the word we want"
      ]
    },
    {
      "cell_type": "code",
      "metadata": {
        "id": "zxe6hhiVbSk-",
        "colab": {
          "base_uri": "https://localhost:8080/"
        },
        "outputId": "64504d03-cbb7-4f79-ee62-2c1c1ef80a87"
      },
      "source": [
        "random_string = 'thisbithere'\n",
        "\n",
        "# slice the string 'this' from random_string\n",
        "answerA = random_string[0:4]\n",
        "print(answerA)\n",
        "# slice the string 'bit' from random_string\n",
        "answerB = random_string[4:7]\n",
        "print(answerB)\n",
        "\n",
        "long_string='thisisalongbitofstringthatcontainsnoinformation'\n",
        "\n",
        "#slice the string 'infromation' from long_string\n",
        "answerC = long_string[-11:]\n",
        "print(answerC)\n",
        "\n",
        "#slice the string 'tbnls' from long_string (hint: look for the b)\n",
        "answerD = long_string[5:14:2][::-1]\n",
        "print(answerD)\n"
      ],
      "execution_count": 9,
      "outputs": [
        {
          "output_type": "stream",
          "text": [
            "this\n",
            "bit\n",
            "information\n",
            "tbnls\n"
          ],
          "name": "stdout"
        }
      ]
    }
  ]
}